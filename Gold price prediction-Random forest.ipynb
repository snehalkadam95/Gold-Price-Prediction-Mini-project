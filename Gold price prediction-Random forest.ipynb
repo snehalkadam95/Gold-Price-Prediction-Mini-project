{
 "cells": [
  {
   "cell_type": "markdown",
   "id": "44843974",
   "metadata": {},
   "source": [
    "## Importing dependancies"
   ]
  },
  {
   "cell_type": "code",
   "execution_count": 1,
   "id": "00880b25",
   "metadata": {},
   "outputs": [],
   "source": [
    "#importing libraries\n",
    "import pandas as pd\n",
    "import numpy as np\n",
    "import seaborn as sns\n",
    "import matplotlib.pyplot as plt\n",
    "from sklearn.model_selection import train_test_split\n",
    "from sklearn.ensemble import RandomForestRegressor\n",
    "from sklearn import metrics"
   ]
  },
  {
   "cell_type": "markdown",
   "id": "f8423576",
   "metadata": {},
   "source": [
    "## Data collection and preprocessing"
   ]
  },
  {
   "cell_type": "code",
   "execution_count": 3,
   "id": "9550a19a",
   "metadata": {},
   "outputs": [],
   "source": [
    "#loading data into pandas data frame\n",
    "\n",
    "gold=pd.read_csv(r\"C:\\Users\\DELL\\Documents\\Snehal DS\\Snehal Projects\\Gold Price Prediction\\gld_price_data.csv\")"
   ]
  },
  {
   "cell_type": "code",
   "execution_count": 4,
   "id": "fde31067",
   "metadata": {},
   "outputs": [
    {
     "data": {
      "text/html": [
       "<div>\n",
       "<style scoped>\n",
       "    .dataframe tbody tr th:only-of-type {\n",
       "        vertical-align: middle;\n",
       "    }\n",
       "\n",
       "    .dataframe tbody tr th {\n",
       "        vertical-align: top;\n",
       "    }\n",
       "\n",
       "    .dataframe thead th {\n",
       "        text-align: right;\n",
       "    }\n",
       "</style>\n",
       "<table border=\"1\" class=\"dataframe\">\n",
       "  <thead>\n",
       "    <tr style=\"text-align: right;\">\n",
       "      <th></th>\n",
       "      <th>Date</th>\n",
       "      <th>SPX</th>\n",
       "      <th>GLD</th>\n",
       "      <th>USO</th>\n",
       "      <th>SLV</th>\n",
       "      <th>EUR/USD</th>\n",
       "    </tr>\n",
       "  </thead>\n",
       "  <tbody>\n",
       "    <tr>\n",
       "      <th>0</th>\n",
       "      <td>1/2/2008</td>\n",
       "      <td>1447.160034</td>\n",
       "      <td>84.860001</td>\n",
       "      <td>78.470001</td>\n",
       "      <td>15.180</td>\n",
       "      <td>1.471692</td>\n",
       "    </tr>\n",
       "    <tr>\n",
       "      <th>1</th>\n",
       "      <td>1/3/2008</td>\n",
       "      <td>1447.160034</td>\n",
       "      <td>85.570000</td>\n",
       "      <td>78.370003</td>\n",
       "      <td>15.285</td>\n",
       "      <td>1.474491</td>\n",
       "    </tr>\n",
       "    <tr>\n",
       "      <th>2</th>\n",
       "      <td>1/4/2008</td>\n",
       "      <td>1411.630005</td>\n",
       "      <td>85.129997</td>\n",
       "      <td>77.309998</td>\n",
       "      <td>15.167</td>\n",
       "      <td>1.475492</td>\n",
       "    </tr>\n",
       "    <tr>\n",
       "      <th>3</th>\n",
       "      <td>1/7/2008</td>\n",
       "      <td>1416.180054</td>\n",
       "      <td>84.769997</td>\n",
       "      <td>75.500000</td>\n",
       "      <td>15.053</td>\n",
       "      <td>1.468299</td>\n",
       "    </tr>\n",
       "    <tr>\n",
       "      <th>4</th>\n",
       "      <td>1/8/2008</td>\n",
       "      <td>1390.189941</td>\n",
       "      <td>86.779999</td>\n",
       "      <td>76.059998</td>\n",
       "      <td>15.590</td>\n",
       "      <td>1.557099</td>\n",
       "    </tr>\n",
       "  </tbody>\n",
       "</table>\n",
       "</div>"
      ],
      "text/plain": [
       "       Date          SPX        GLD        USO     SLV   EUR/USD\n",
       "0  1/2/2008  1447.160034  84.860001  78.470001  15.180  1.471692\n",
       "1  1/3/2008  1447.160034  85.570000  78.370003  15.285  1.474491\n",
       "2  1/4/2008  1411.630005  85.129997  77.309998  15.167  1.475492\n",
       "3  1/7/2008  1416.180054  84.769997  75.500000  15.053  1.468299\n",
       "4  1/8/2008  1390.189941  86.779999  76.059998  15.590  1.557099"
      ]
     },
     "execution_count": 4,
     "metadata": {},
     "output_type": "execute_result"
    }
   ],
   "source": [
    "gold.head()\n"
   ]
  },
  {
   "cell_type": "code",
   "execution_count": 5,
   "id": "f84b2d0d",
   "metadata": {},
   "outputs": [
    {
     "data": {
      "text/html": [
       "<div>\n",
       "<style scoped>\n",
       "    .dataframe tbody tr th:only-of-type {\n",
       "        vertical-align: middle;\n",
       "    }\n",
       "\n",
       "    .dataframe tbody tr th {\n",
       "        vertical-align: top;\n",
       "    }\n",
       "\n",
       "    .dataframe thead th {\n",
       "        text-align: right;\n",
       "    }\n",
       "</style>\n",
       "<table border=\"1\" class=\"dataframe\">\n",
       "  <thead>\n",
       "    <tr style=\"text-align: right;\">\n",
       "      <th></th>\n",
       "      <th>Date</th>\n",
       "      <th>SPX</th>\n",
       "      <th>GLD</th>\n",
       "      <th>USO</th>\n",
       "      <th>SLV</th>\n",
       "      <th>EUR/USD</th>\n",
       "    </tr>\n",
       "  </thead>\n",
       "  <tbody>\n",
       "    <tr>\n",
       "      <th>2285</th>\n",
       "      <td>5/8/2018</td>\n",
       "      <td>2671.919922</td>\n",
       "      <td>124.589996</td>\n",
       "      <td>14.0600</td>\n",
       "      <td>15.5100</td>\n",
       "      <td>1.186789</td>\n",
       "    </tr>\n",
       "    <tr>\n",
       "      <th>2286</th>\n",
       "      <td>5/9/2018</td>\n",
       "      <td>2697.790039</td>\n",
       "      <td>124.330002</td>\n",
       "      <td>14.3700</td>\n",
       "      <td>15.5300</td>\n",
       "      <td>1.184722</td>\n",
       "    </tr>\n",
       "    <tr>\n",
       "      <th>2287</th>\n",
       "      <td>5/10/2018</td>\n",
       "      <td>2723.070068</td>\n",
       "      <td>125.180000</td>\n",
       "      <td>14.4100</td>\n",
       "      <td>15.7400</td>\n",
       "      <td>1.191753</td>\n",
       "    </tr>\n",
       "    <tr>\n",
       "      <th>2288</th>\n",
       "      <td>5/14/2018</td>\n",
       "      <td>2730.129883</td>\n",
       "      <td>124.489998</td>\n",
       "      <td>14.3800</td>\n",
       "      <td>15.5600</td>\n",
       "      <td>1.193118</td>\n",
       "    </tr>\n",
       "    <tr>\n",
       "      <th>2289</th>\n",
       "      <td>5/16/2018</td>\n",
       "      <td>2725.780029</td>\n",
       "      <td>122.543800</td>\n",
       "      <td>14.4058</td>\n",
       "      <td>15.4542</td>\n",
       "      <td>1.182033</td>\n",
       "    </tr>\n",
       "  </tbody>\n",
       "</table>\n",
       "</div>"
      ],
      "text/plain": [
       "           Date          SPX         GLD      USO      SLV   EUR/USD\n",
       "2285   5/8/2018  2671.919922  124.589996  14.0600  15.5100  1.186789\n",
       "2286   5/9/2018  2697.790039  124.330002  14.3700  15.5300  1.184722\n",
       "2287  5/10/2018  2723.070068  125.180000  14.4100  15.7400  1.191753\n",
       "2288  5/14/2018  2730.129883  124.489998  14.3800  15.5600  1.193118\n",
       "2289  5/16/2018  2725.780029  122.543800  14.4058  15.4542  1.182033"
      ]
     },
     "execution_count": 5,
     "metadata": {},
     "output_type": "execute_result"
    }
   ],
   "source": [
    "gold.tail()"
   ]
  },
  {
   "cell_type": "code",
   "execution_count": 6,
   "id": "9242cec2",
   "metadata": {},
   "outputs": [
    {
     "data": {
      "text/plain": [
       "(2290, 6)"
      ]
     },
     "execution_count": 6,
     "metadata": {},
     "output_type": "execute_result"
    }
   ],
   "source": [
    "gold.shape"
   ]
  },
  {
   "cell_type": "code",
   "execution_count": 8,
   "id": "f817f806",
   "metadata": {},
   "outputs": [
    {
     "name": "stdout",
     "output_type": "stream",
     "text": [
      "<class 'pandas.core.frame.DataFrame'>\n",
      "RangeIndex: 2290 entries, 0 to 2289\n",
      "Data columns (total 6 columns):\n",
      " #   Column   Non-Null Count  Dtype  \n",
      "---  ------   --------------  -----  \n",
      " 0   Date     2290 non-null   object \n",
      " 1   SPX      2290 non-null   float64\n",
      " 2   GLD      2290 non-null   float64\n",
      " 3   USO      2290 non-null   float64\n",
      " 4   SLV      2290 non-null   float64\n",
      " 5   EUR/USD  2290 non-null   float64\n",
      "dtypes: float64(5), object(1)\n",
      "memory usage: 107.5+ KB\n"
     ]
    }
   ],
   "source": [
    "gold.info()"
   ]
  },
  {
   "cell_type": "code",
   "execution_count": 9,
   "id": "e050234c",
   "metadata": {},
   "outputs": [
    {
     "data": {
      "text/plain": [
       "Date       0\n",
       "SPX        0\n",
       "GLD        0\n",
       "USO        0\n",
       "SLV        0\n",
       "EUR/USD    0\n",
       "dtype: int64"
      ]
     },
     "execution_count": 9,
     "metadata": {},
     "output_type": "execute_result"
    }
   ],
   "source": [
    "gold.isnull().sum()"
   ]
  },
  {
   "cell_type": "code",
   "execution_count": 10,
   "id": "d553dc4c",
   "metadata": {},
   "outputs": [
    {
     "data": {
      "text/html": [
       "<div>\n",
       "<style scoped>\n",
       "    .dataframe tbody tr th:only-of-type {\n",
       "        vertical-align: middle;\n",
       "    }\n",
       "\n",
       "    .dataframe tbody tr th {\n",
       "        vertical-align: top;\n",
       "    }\n",
       "\n",
       "    .dataframe thead th {\n",
       "        text-align: right;\n",
       "    }\n",
       "</style>\n",
       "<table border=\"1\" class=\"dataframe\">\n",
       "  <thead>\n",
       "    <tr style=\"text-align: right;\">\n",
       "      <th></th>\n",
       "      <th>SPX</th>\n",
       "      <th>GLD</th>\n",
       "      <th>USO</th>\n",
       "      <th>SLV</th>\n",
       "      <th>EUR/USD</th>\n",
       "    </tr>\n",
       "  </thead>\n",
       "  <tbody>\n",
       "    <tr>\n",
       "      <th>count</th>\n",
       "      <td>2290.000000</td>\n",
       "      <td>2290.000000</td>\n",
       "      <td>2290.000000</td>\n",
       "      <td>2290.000000</td>\n",
       "      <td>2290.000000</td>\n",
       "    </tr>\n",
       "    <tr>\n",
       "      <th>mean</th>\n",
       "      <td>1654.315776</td>\n",
       "      <td>122.732875</td>\n",
       "      <td>31.842221</td>\n",
       "      <td>20.084997</td>\n",
       "      <td>1.283653</td>\n",
       "    </tr>\n",
       "    <tr>\n",
       "      <th>std</th>\n",
       "      <td>519.111540</td>\n",
       "      <td>23.283346</td>\n",
       "      <td>19.523517</td>\n",
       "      <td>7.092566</td>\n",
       "      <td>0.131547</td>\n",
       "    </tr>\n",
       "    <tr>\n",
       "      <th>min</th>\n",
       "      <td>676.530029</td>\n",
       "      <td>70.000000</td>\n",
       "      <td>7.960000</td>\n",
       "      <td>8.850000</td>\n",
       "      <td>1.039047</td>\n",
       "    </tr>\n",
       "    <tr>\n",
       "      <th>25%</th>\n",
       "      <td>1239.874969</td>\n",
       "      <td>109.725000</td>\n",
       "      <td>14.380000</td>\n",
       "      <td>15.570000</td>\n",
       "      <td>1.171313</td>\n",
       "    </tr>\n",
       "    <tr>\n",
       "      <th>50%</th>\n",
       "      <td>1551.434998</td>\n",
       "      <td>120.580002</td>\n",
       "      <td>33.869999</td>\n",
       "      <td>17.268500</td>\n",
       "      <td>1.303297</td>\n",
       "    </tr>\n",
       "    <tr>\n",
       "      <th>75%</th>\n",
       "      <td>2073.010070</td>\n",
       "      <td>132.840004</td>\n",
       "      <td>37.827501</td>\n",
       "      <td>22.882500</td>\n",
       "      <td>1.369971</td>\n",
       "    </tr>\n",
       "    <tr>\n",
       "      <th>max</th>\n",
       "      <td>2872.870117</td>\n",
       "      <td>184.589996</td>\n",
       "      <td>117.480003</td>\n",
       "      <td>47.259998</td>\n",
       "      <td>1.598798</td>\n",
       "    </tr>\n",
       "  </tbody>\n",
       "</table>\n",
       "</div>"
      ],
      "text/plain": [
       "               SPX          GLD          USO          SLV      EUR/USD\n",
       "count  2290.000000  2290.000000  2290.000000  2290.000000  2290.000000\n",
       "mean   1654.315776   122.732875    31.842221    20.084997     1.283653\n",
       "std     519.111540    23.283346    19.523517     7.092566     0.131547\n",
       "min     676.530029    70.000000     7.960000     8.850000     1.039047\n",
       "25%    1239.874969   109.725000    14.380000    15.570000     1.171313\n",
       "50%    1551.434998   120.580002    33.869999    17.268500     1.303297\n",
       "75%    2073.010070   132.840004    37.827501    22.882500     1.369971\n",
       "max    2872.870117   184.589996   117.480003    47.259998     1.598798"
      ]
     },
     "execution_count": 10,
     "metadata": {},
     "output_type": "execute_result"
    }
   ],
   "source": [
    "#Statistical measures of data\n",
    "gold.describe()"
   ]
  },
  {
   "cell_type": "code",
   "execution_count": 13,
   "id": "34b860a0",
   "metadata": {},
   "outputs": [],
   "source": [
    "#find correlation values of gold\n",
    "correlation=gold.corr()"
   ]
  },
  {
   "cell_type": "code",
   "execution_count": 20,
   "id": "6258d837",
   "metadata": {},
   "outputs": [
    {
     "data": {
      "text/plain": [
       "<AxesSubplot:>"
      ]
     },
     "execution_count": 20,
     "metadata": {},
     "output_type": "execute_result"
    },
    {
     "data": {
      "image/png": "[encoded data removed]",
      "text/plain": [
       "<Figure size 576x576 with 2 Axes>"
      ]
     },
     "metadata": {
      "needs_background": "light"
     },
     "output_type": "display_data"
    }
   ],
   "source": [
    "#heatmap to understand correlation\n",
    "plt.figure(figsize=(8,8))\n",
    "sns.heatmap(correlation,cbar=True,square=True, fmt='1f', annot=True, annot_kws={'size':8},cmap='Blues')"
   ]
  },
  {
   "cell_type": "code",
   "execution_count": 21,
   "id": "63e0d092",
   "metadata": {},
   "outputs": [
    {
     "name": "stdout",
     "output_type": "stream",
     "text": [
      "SPX        0.049345\n",
      "GLD        1.000000\n",
      "USO       -0.186360\n",
      "SLV        0.866632\n",
      "EUR/USD   -0.024375\n",
      "Name: GLD, dtype: float64\n"
     ]
    }
   ],
   "source": [
    "#Correaltion values of gold\n",
    "print(correlation[\"GLD\"])"
   ]
  },
  {
   "cell_type": "code",
   "execution_count": 22,
   "id": "e8644673",
   "metadata": {},
   "outputs": [
    {
     "name": "stderr",
     "output_type": "stream",
     "text": [
      "C:\\Users\\DELL\\anaconda3\\lib\\site-packages\\seaborn\\distributions.py:2619: FutureWarning: `distplot` is a deprecated function and will be removed in a future version. Please adapt your code to use either `displot` (a figure-level function with similar flexibility) or `histplot` (an axes-level function for histograms).\n",
      "  warnings.warn(msg, FutureWarning)\n"
     ]
    },
    {
     "data": {
      "text/plain": [
       "<AxesSubplot:xlabel='GLD', ylabel='Density'>"
      ]
     },
     "execution_count": 22,
     "metadata": {},
     "output_type": "execute_result"
    },
    {
     "data": {
      "image/png": "[encoded data removed]",
      "text/plain": [
       "<Figure size 432x288 with 1 Axes>"
      ]
     },
     "metadata": {
      "needs_background": "light"
     },
     "output_type": "display_data"
    }
   ],
   "source": [
    "#Check distribution of gold price\n",
    "sns.distplot(gold['GLD'],color='green')"
   ]
  },
  {
   "cell_type": "code",
   "execution_count": 39,
   "id": "8eaf650b",
   "metadata": {},
   "outputs": [
    {
     "name": "stdout",
     "output_type": "stream",
     "text": [
      "              SPX        USO      SLV   EUR/USD\n",
      "0     1447.160034  78.470001  15.1800  1.471692\n",
      "1     1447.160034  78.370003  15.2850  1.474491\n",
      "2     1411.630005  77.309998  15.1670  1.475492\n",
      "3     1416.180054  75.500000  15.0530  1.468299\n",
      "4     1390.189941  76.059998  15.5900  1.557099\n",
      "...           ...        ...      ...       ...\n",
      "2285  2671.919922  14.060000  15.5100  1.186789\n",
      "2286  2697.790039  14.370000  15.5300  1.184722\n",
      "2287  2723.070068  14.410000  15.7400  1.191753\n",
      "2288  2730.129883  14.380000  15.5600  1.193118\n",
      "2289  2725.780029  14.405800  15.4542  1.182033\n",
      "\n",
      "[2290 rows x 4 columns]\n",
      "0        84.860001\n",
      "1        85.570000\n",
      "2        85.129997\n",
      "3        84.769997\n",
      "4        86.779999\n",
      "           ...    \n",
      "2285    124.589996\n",
      "2286    124.330002\n",
      "2287    125.180000\n",
      "2288    124.489998\n",
      "2289    122.543800\n",
      "Name: GLD, Length: 2290, dtype: float64\n"
     ]
    }
   ],
   "source": [
    "#splitting features and targets\n",
    "x=gold.drop(['GLD','Date'],axis=1)\n",
    "y=gold['GLD']\n",
    "print(x)\n",
    "print(y)"
   ]
  },
  {
   "cell_type": "code",
   "execution_count": 41,
   "id": "6f7bfd9d",
   "metadata": {},
   "outputs": [],
   "source": [
    "#spliting data into train test split\n",
    "x_train,x_test,y_train,y_test=train_test_split(x,y, test_size=0.2, random_state=2)"
   ]
  },
  {
   "cell_type": "code",
   "execution_count": 42,
   "id": "e9d9f450",
   "metadata": {},
   "outputs": [],
   "source": [
    "#model training\n",
    "regressor=RandomForestRegressor(n_estimators=100)"
   ]
  },
  {
   "cell_type": "code",
   "execution_count": 43,
   "id": "f0792777",
   "metadata": {},
   "outputs": [
    {
     "data": {
      "text/plain": [
       "RandomForestRegressor()"
      ]
     },
     "execution_count": 43,
     "metadata": {},
     "output_type": "execute_result"
    }
   ],
   "source": [
    "#training model\n",
    "regressor.fit(x_train,y_train)"
   ]
  },
  {
   "cell_type": "code",
   "execution_count": 44,
   "id": "b8e01dfd",
   "metadata": {},
   "outputs": [
    {
     "name": "stdout",
     "output_type": "stream",
     "text": [
      "[168.50789937  82.03939996 116.32730053 127.46960086 120.31770139\n",
      " 154.85269744 150.32789868 125.97480067 117.41929874 125.94640048\n",
      " 116.54740125 172.05390122 141.53599785 167.95049861 115.1247002\n",
      " 117.5651005  138.52210267 170.12990118 159.09170168 160.81369986\n",
      " 155.15760021 124.7872     176.27499935 157.61310275 125.1908002\n",
      "  94.16509953  78.24779997 120.48010003 119.11209933 167.39739977\n",
      "  88.32740055 125.44860037  91.12340088 117.66080029 121.13339885\n",
      " 136.15390082 115.3396012  115.04430098 146.85939989 107.06950073\n",
      " 104.5936022   87.20209811 126.43910076 117.98810009 151.31209902\n",
      " 119.57170033 108.49349998 108.11559763  93.13680048 127.24789748\n",
      "  74.87420053 113.77239939 121.35509999 111.33349914 118.82259899\n",
      " 120.41479943 159.8854992  168.07060194 147.00519683  85.91659844\n",
      "  94.42740029  87.03599919  90.63360031 118.98990086 126.47350074\n",
      " 127.62210014 170.28330025 122.31409919 117.39509877  98.25620005\n",
      " 168.16660013 142.83339851 131.7290024  121.00780212 120.69059934\n",
      " 119.55790043 114.50880106 118.22640046 107.024001   127.95330047\n",
      " 114.16399968 107.53509983 116.9005004  119.61489867  89.00560039\n",
      "  88.26969878 146.72250294 127.3194005  113.3713002  110.50979838\n",
      " 108.03039898  77.51949894 169.8383021  114.09489922 121.61839897\n",
      " 127.76450143 154.88959813  91.89269965 137.069401   159.28960321\n",
      " 125.64230078 125.5336004  130.36260205 114.77610093 119.85260009\n",
      "  91.99959955 110.5807988  167.72060003 156.06149964 114.25249953\n",
      " 106.66970115  80.04599973 113.3605005  125.84430087 106.82849945\n",
      " 119.5398008  156.16080383 160.11219901 120.09619998 134.67450293\n",
      " 101.35419979 117.43659806 119.1221999  112.98230108 102.78649908\n",
      " 160.58709812  98.99420047 149.27089958 125.62910081 169.08569902\n",
      " 125.46659952 127.40039746 127.44070171 113.68509923 113.02140062\n",
      " 123.52769897 102.16789885  89.73179962 124.61689959 101.42289914\n",
      " 107.06149915 113.7801005  117.30510087  98.88419949 121.82340069\n",
      " 163.21109928  87.40819863 106.66629987 117.07820097 127.81450114\n",
      " 124.19710069  80.58199893 120.30750061 158.63429793  88.12969971\n",
      " 110.46939891 118.79889906 172.41419948 102.96029895 105.74270043\n",
      " 122.44320042 158.93599773  87.42919835  92.99300041 113.00300008\n",
      " 177.7470989  114.45260006 119.15740003  94.91070129 125.6771003\n",
      " 165.65370068 114.82160051 116.61980125  88.36179867 148.81730009\n",
      " 120.40739935  89.7327001  112.04140016 117.04550033 118.65760125\n",
      "  87.93439942  94.09340022 117.24560008 118.45970181 120.42110042\n",
      " 126.80329836 121.8735997  150.08189968 165.03180036 118.63329959\n",
      " 120.4914012  150.10250069 118.2384988  173.13069955 105.33639932\n",
      " 104.97030065 149.33280029 113.4156006  124.774801   147.5036005\n",
      " 119.55720112 115.59230093 112.51110005 113.28710206 140.0911013\n",
      " 117.79569763 102.96940028 115.91690137 103.90480148  98.83700031\n",
      " 117.53260068  90.63210007  91.54290045 153.41009929 102.7597\n",
      " 155.02230095 114.25970145 139.69450152  90.18339809 115.4792992\n",
      " 114.43049963 122.58020041 121.75870008 165.4141018   92.91709954\n",
      " 135.60160142 121.35579909 120.68060069 104.5947002  143.14780268\n",
      " 121.53619919 116.4922002  113.67630118 127.02099759 122.46139945\n",
      " 125.81059975 121.1995004   86.83369902 132.60230158 143.49690235\n",
      "  92.79459912 159.50209972 159.1490017  126.34969881 165.37009935\n",
      " 108.81629925 109.51470042 103.68479839  94.35830086 127.55940283\n",
      " 107.2641007  162.54580024 121.74130056 132.02290047 130.37820218\n",
      " 161.16329994  90.13469815 176.25170204 127.88440075 126.8045985\n",
      "  86.40409881 124.48969977 150.46489739  89.83140028 106.77719968\n",
      " 109.08489948  84.74419898 135.99390054 154.80480298 139.89600302\n",
      "  73.33660045 151.45150089 126.02649989 126.70980033 127.50169894\n",
      " 108.79459938 156.43039912 114.53260105 116.94640144 125.42869957\n",
      " 154.17010127 121.30930009 156.42149888  92.91900071 125.51680159\n",
      " 125.51460034  87.7872004   92.27659925 126.2007994  128.35310381\n",
      " 112.91660035 117.68939755 120.82470033 127.00769833 119.5502013\n",
      " 136.73430088  93.89579914 119.76870059 113.39060104  94.23859924\n",
      " 108.95589975  87.42199932 109.21929951  89.63809972  92.40880003\n",
      " 131.80780395 162.54610013  89.17760047 119.4700007  133.43760209\n",
      " 123.9374001  128.22110189 102.01529831  88.99839886 131.61910039\n",
      " 119.47420058 108.6922998  169.04100087 115.35240037  86.65769892\n",
      " 118.95050077  91.08199966 161.95630104 116.60690042 121.71089989\n",
      " 160.14259776 120.10319935 112.53429985 108.51719871 126.42390004\n",
      "  76.10090059 102.99879979 127.32490238 121.78949947  92.66949994\n",
      " 132.30400101 118.19440153 115.7834     154.58760294 159.43230057\n",
      " 109.82369971 152.85569685 119.26530098 160.91780186 118.36170018\n",
      " 158.14289896 115.17929924 116.55710016 148.52979816 114.73670041\n",
      " 125.80929837 166.78549854 117.6041003  125.14789918 153.32180377\n",
      " 153.45670222 132.27020005 114.76470048 121.11130197 125.0214007\n",
      "  89.81710083 123.19080007 154.97590105 111.7882004  106.71079991\n",
      " 161.44010121 118.30069941 165.71350018 133.71240084 114.9659001\n",
      " 153.13679897 168.60840041 114.41560014 114.28500126 158.89359958\n",
      "  85.09779911 127.05340049 128.00800084 128.78649979 124.28190069\n",
      " 123.89590059  90.56370083 153.3065996   97.15589983 137.54569949\n",
      "  89.17299969 107.55680011 115.22000063 112.83010079 124.51069899\n",
      "  91.40569901 125.43010114 162.40289841 119.94799866 165.20130075\n",
      " 126.7945981  112.45869986 127.4393995   95.14259916  90.87830011\n",
      " 103.38789909 120.74150007  82.90369959 126.33030012 159.97660337\n",
      " 117.34070082 118.38719957 119.76640032 122.37969964 120.16310135\n",
      " 121.35630012 117.95450042 106.9918002  148.37949964 126.05409893\n",
      " 115.83760066  74.03730011 127.86230105 154.35670111 122.39160023\n",
      " 125.57870042  88.84270038 103.42159866 124.88010031 120.23899998\n",
      "  73.25900077 151.30980051 121.27520014 104.52139993  86.43189785\n",
      " 115.31889939 172.27639886 119.82480014 160.24249832 113.13639996\n",
      " 120.91569993 118.72740141  96.04789979 118.70530009 125.82730027\n",
      " 118.53459949  96.06350059 153.92720176 122.04540019 147.61559979\n",
      " 159.57120273 113.64160034 122.57769946 148.4855976  127.49100021\n",
      " 165.59060033 135.71240038 120.09179971 168.11189951 108.33029849\n",
      " 121.74769889 138.47330142 106.70289915]\n"
     ]
    }
   ],
   "source": [
    "#Model Evaluation\n",
    "test_data_pred=regressor.predict(x_test)\n",
    "print(test_data_pred)"
   ]
  },
  {
   "cell_type": "code",
   "execution_count": 46,
   "id": "693f9c35",
   "metadata": {},
   "outputs": [
    {
     "name": "stdout",
     "output_type": "stream",
     "text": [
      "R Squared error: 0.9895262649922335\n"
     ]
    }
   ],
   "source": [
    "#R Squared error\n",
    "error_score=metrics.r2_score(y_test,test_data_pred)\n",
    "print(\"R Squared error:\",error_score)"
   ]
  },
  {
   "cell_type": "code",
   "execution_count": 51,
   "id": "70d03e0a",
   "metadata": {},
   "outputs": [
    {
     "data": {
      "image/png": "[encoded data removed]",
      "text/plain": [
       "<Figure size 432x288 with 1 Axes>"
      ]
     },
     "metadata": {
      "needs_background": "light"
     },
     "output_type": "display_data"
    }
   ],
   "source": [
    "#compare the actual values and predicted values in a lot\n",
    "y_test=list(y_test)\n",
    "plt.plot(y_test, color=\"blue\", label=\"Actual value\")\n",
    "plt.plot(test_data_pred, color=\"green\", label=\"Predicted value\")\n",
    "plt.title(\"Actual price vs Predicted price\")\n",
    "plt.xlabel(\"No of values\")\n",
    "plt.ylabel(\"Gold price\")\n",
    "plt.legend()\n",
    "plt.show()"
   ]
  },
  {
   "cell_type": "code",
   "execution_count": null,
   "id": "46f6b048",
   "metadata": {},
   "outputs": [],
   "source": []
  }
 ],
 "metadata": {
  "kernelspec": {
   "display_name": "Python 3 (ipykernel)",
   "language": "python",
   "name": "python3"
  },
  "language_info": {
   "codemirror_mode": {
    "name": "ipython",
    "version": 3
   },
   "file_extension": ".py",
   "mimetype": "text/x-python",
   "name": "python",
   "nbconvert_exporter": "python",
   "pygments_lexer": "ipython3",
   "version": "3.9.7"
  }
 },
 "nbformat": 4,
 "nbformat_minor": 5
}
